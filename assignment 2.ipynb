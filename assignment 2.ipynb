{
 "cells": [
  {
   "cell_type": "code",
   "execution_count": null,
   "id": "801e8122",
   "metadata": {},
   "outputs": [],
   "source": [
    "##1. What are the Boolean data type's two values? How do you go about writing them?\n",
    "      Boolean data type has 2 values either True or Fasle.In python while doing type casting any value other than 0 \n",
    "      is treated as True and 0 value is treated as False .True is treated as 1  & False is treated as 0.\n",
    "      True/False :-  Right way of writing not true , TRUE,false,FALSE . First char should be in uppercase\n",
    "      "
   ]
  },
  {
   "cell_type": "code",
   "execution_count": null,
   "id": "451b1c06",
   "metadata": {},
   "outputs": [],
   "source": [
    "#2. What are the three different types of Boolean operators?\n",
    "     and :-If both side True then True else False\n",
    "     or :- If either side  or both side is True then True else False\n",
    "     Not : -- True converted to False and vice-versa"
   ]
  },
  {
   "cell_type": "code",
   "execution_count": null,
   "id": "c38aa6c5",
   "metadata": {},
   "outputs": [],
   "source": [
    "##3 :-- 3. Make a list of each Boolean operator's truth tables (i.e. every possible combination of Boolean values for the operator and what it evaluate ).\n",
    "---and----\n",
    "True and True    -- True\n",
    "True and False   -- False\n",
    "False and True   -- False\n",
    "False and False  -- False\n",
    "\n",
    "------or-----\n",
    "\n",
    "True or True    -- True\n",
    "True or False   -- True\n",
    "False or True   -- True\n",
    "False or False  -- False\n",
    "\n",
    "---not-----\n",
    "not True        -- False\n",
    "not False       -- True"
   ]
  },
  {
   "cell_type": "code",
   "execution_count": null,
   "id": "e36dfc4c",
   "metadata": {},
   "outputs": [],
   "source": [
    "4. What are the values of the following expressions?\n",
    "\n",
    "(5 > 4) and (3 == 5)              -------false\n",
    "not (5 > 4)                       -------false\n",
    "(5 > 4) or (3 == 5)                -------true\n",
    "not ((5 > 4) or (3 == 5))            -----false\n",
    "(True and True) and (True == False)------false\n",
    "(not False) or (not True)          ------true\n"
   ]
  },
  {
   "cell_type": "code",
   "execution_count": null,
   "id": "23cbb8aa",
   "metadata": {},
   "outputs": [],
   "source": [
    "5. What are the six different types of reference operators?\"\"\"\n",
    "      Reference operators are :-- a<b --    a is smaller than b\n",
    "      Reference operators are :-- a<=b ---  a is either smaller than or equal to b\n",
    "      Reference operators are :-- a>b --    a is greater than b\n",
    "      Reference operators are :-- a>=b ---  a is either greater than or equal to b\n",
    "      Reference operators are :-- a==b --   a is equal to b\n",
    "     Reference operators are :--  a!=b --   a is not equal to b\n"
   ]
  },
  {
   "cell_type": "code",
   "execution_count": null,
   "id": "eff37109",
   "metadata": {},
   "outputs": [],
   "source": [
    "6. How do you tell the difference between the equal to and assignment operators?\"\"\"\n",
    "#\n",
    "Equality Operator :-- a==b :-a is equal to b & it is comaprision between left & right value & evalutes to either True or False \n",
    "Assignement Operator :-- a=b :- Here we are assigning the value of b to a not comapring \n",
    "\n",
    "a=10\n",
    "b=5\n",
    "a==b :-  False\n",
    "a=b :- value of a will be changed to 5 "
   ]
  },
  {
   "cell_type": "code",
   "execution_count": null,
   "id": "63081d71",
   "metadata": {},
   "outputs": [],
   "source": [
    "7. Describe a condition and when you would use oneCondition is used to dectate the program execution flow & python uses if , elif , else keyword & flow is \n",
    "       determined on conidtion clause( True & False)\n",
    "      \n",
    "        "
   ]
  },
  {
   "cell_type": "code",
   "execution_count": null,
   "id": "14252edc",
   "metadata": {},
   "outputs": [],
   "source": [
    "spam = 0\n",
    "if spam == 10: # 0==10 false & directly will go to respective else statement \n",
    "    print('eggs')\n",
    "    if spam > 5:\n",
    "        print('bacon')\n",
    "    else:\n",
    "        print('ham')\n",
    "    print('spam')   ## This print will be executed\n",
    "print('spam')"
   ]
  },
  {
   "cell_type": "code",
   "execution_count": null,
   "id": "28796079",
   "metadata": {},
   "outputs": [],
   "source": [
    "9. Create a programme that prints. If 1 is stored in spam, prints Hello; if 2 is stored in spam, prints Howdy; \n",
    "and if 3 is stored in spam, prints Salutations! if there's something else in spam.\n",
    "\"\"\"\n",
    "\n",
    "spam=int(input(\"Enter the spam value: --- \"))\n",
    "\n",
    "if spam ==1:\n",
    "    print(\"Hello\")\n",
    "elif spam==2:\n",
    "    print(\"Howdy\")\n",
    "elif spam==3:\n",
    "    print(\"Salutations!\")\n",
    "else:\n",
    "    print(\"\")"
   ]
  },
  {
   "cell_type": "code",
   "execution_count": null,
   "id": "7d0208a3",
   "metadata": {},
   "outputs": [],
   "source": [
    "10.If your programme is stuck in an endless loop, what keys can you press?\"\"\"\n",
    "print(\"ctrl+c\")"
   ]
  },
  {
   "cell_type": "code",
   "execution_count": null,
   "id": "55261714",
   "metadata": {},
   "outputs": [],
   "source": [
    "12 :-  In a for loop, what is the difference between range(10), range(0, 10), and range(0, 10, 1)?\"\"\"\n",
    "i=[]\n",
    "j=[]\n",
    "k=[]\n",
    "for c in range(10):\n",
    "    i.append(c)\n",
    "\n",
    "for c in range(0,10):\n",
    "    j.append(c)\n",
    "\n",
    "for c in range(0,10,1):\n",
    "    k.append(c)\n",
    "print(i)\n",
    "print(j)\n",
    "print(k)\n",
    "if i==j and j==k:\n",
    "    print( \"All same\")\n",
    "else :\n",
    "    print(\"All different\")"
   ]
  },
  {
   "cell_type": "code",
   "execution_count": null,
   "id": "ee17e9a3",
   "metadata": {},
   "outputs": [],
   "source": [
    "13. Using a for loop, write a short programme that prints the numbers 1 to 10 Then, \n",
    "      using a while loop, create an identical programme that prints the numbers 1 to 10.\"\"\"\n",
    "\n",
    "for f in range(1,11):\n",
    "    print(f)\n",
    "\n",
    "print(\"!!!!!!!!!!!!!!!!!!!!!!!!!!!!!!!!\")\n",
    "w=1\n",
    "while w <=10:\n",
    "    print(w)\n",
    "    w=w+1\n",
    "print(\"!!!!!!!!!!!!!!!!!!!!!!!!!!!!!!!!\")"
   ]
  },
  {
   "cell_type": "code",
   "execution_count": null,
   "id": "615d7f6d",
   "metadata": {},
   "outputs": [],
   "source": [
    "14. If you had a bacon() function within a spam module, how  would you call it after importing spam?\"\"\"\n",
    "\n",
    "print('''First way :- \n",
    "        import spam as s\n",
    "        s.bacon()\n",
    "        ''')\n",
    "print('''Second way :- \n",
    "        from spam import *\n",
    "        bacon()\n",
    "        ''')\n",
    "print('''Third way :- \n",
    "        from spam import bacon as b\n",
    "        b()\n",
    "        ''')"
   ]
  }
 ],
 "metadata": {
  "kernelspec": {
   "display_name": "Python 3 (ipykernel)",
   "language": "python",
   "name": "python3"
  },
  "language_info": {
   "codemirror_mode": {
    "name": "ipython",
    "version": 3
   },
   "file_extension": ".py",
   "mimetype": "text/x-python",
   "name": "python",
   "nbconvert_exporter": "python",
   "pygments_lexer": "ipython3",
   "version": "3.9.7"
  }
 },
 "nbformat": 4,
 "nbformat_minor": 5
}
