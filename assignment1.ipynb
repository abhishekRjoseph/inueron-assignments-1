{
 "cells": [
  {
   "cell_type": "code",
   "execution_count": null,
   "id": "650cad9e",
   "metadata": {},
   "outputs": [],
   "source": [
    "1.# In the below elements which of them are values or an expression? eg:- values can be integer or string and expressions will be mathematical operators.\n",
    "* \n",
    "'hello' #-value \n",
    "-87.8  #- value \n",
    "-    # operator\n",
    "/ # operator\n",
    "+\t# operator\n",
    "6 \t# value\n",
    "\n"
   ]
  },
  {
   "cell_type": "code",
   "execution_count": null,
   "id": "9e71aa5f",
   "metadata": {},
   "outputs": [],
   "source": [
    "#2. What is the difference between string and variable?\n",
    "#ans: Variable is name of the reference of any data type stored somewhere in memory & it stores the memory address\n",
    "\n",
    "#String is a data type which stores any type of characters and it should be always enclosed in '' or \"\" "
   ]
  },
  {
   "cell_type": "code",
   "execution_count": null,
   "id": "f6081cac",
   "metadata": {},
   "outputs": [],
   "source": [
    "#3. Describe three different data types.\n",
    "# In python there are mainly 2 types of data types .One is primitive data type & another one is collection data type.\n",
    "       Inside primitive data type string , integer, float , complex  , bool data type comes while for collection data \n",
    "       type list, tuple, set , frozen set , dict , range comes  "
   ]
  },
  {
   "cell_type": "code",
   "execution_count": null,
   "id": "fcbd8c4f",
   "metadata": {},
   "outputs": [],
   "source": [
    "#4. What is an expression made up of? What do all expressions do?\n",
    " Expresion contains variable , operators &  values & it gets evalauted to some value"
   ]
  },
  {
   "cell_type": "code",
   "execution_count": null,
   "id": "ddc4d409",
   "metadata": {},
   "outputs": [],
   "source": [
    "5. This assignment statements, like spam = 10. What is the difference between an expression and a statement?\n",
    "#this is declaration statement wherein spam variable is assigned with value 10\n",
    "\n",
    "Expresion contains variable , operators &  values & it gets evalauted to some value.\n",
    "         EX:- a=5+7 In this a is var , 5 & 7 are values & +,= are operators \n",
    "\n",
    "\n",
    "Decalaration is an statement where we assign some values to a variable be it string , int & flaot .No data type needed"
   ]
  },
  {
   "cell_type": "code",
   "execution_count": null,
   "id": "54f46b28",
   "metadata": {},
   "outputs": [],
   "source": [
    "6. After running the following code, what does the variable bacon contain?\n",
    "bacon = 22\n",
    "bacon + 1\n",
    "23\n"
   ]
  },
  {
   "cell_type": "code",
   "execution_count": null,
   "id": "587cf80d",
   "metadata": {},
   "outputs": [],
   "source": [
    "7. What should the values of the following two terms be?\n",
    "'spam' + 'spamspam'\n",
    "'spam' * 3\n",
    "\n",
    "both will return same value ie spamspamspam"
   ]
  },
  {
   "cell_type": "code",
   "execution_count": null,
   "id": "1a538a39",
   "metadata": {},
   "outputs": [],
   "source": [
    "8. Why is eggs a valid variable name while 100 is invalid?\n",
    "variable should start with alphabet"
   ]
  },
  {
   "cell_type": "code",
   "execution_count": null,
   "id": "6a087bb3",
   "metadata": {},
   "outputs": [],
   "source": [
    "9. What three functions can be used to get the \n",
    "integer - int()\n",
    "floating-point number - float()\n",
    "or string version -str()\n",
    "\n",
    "\n"
   ]
  },
  {
   "cell_type": "code",
   "execution_count": null,
   "id": "b9bdf6da",
   "metadata": {},
   "outputs": [],
   "source": [
    "10. Why does this expression cause an error? How can you fix it?\n",
    "'I have eaten ' + 99 + ' burritos.'\n",
    "99 is not expressed as string \n",
    "coreect statement :'I have eaten ' + '99' + ' burritos.'\n",
    "    "
   ]
  },
  {
   "cell_type": "code",
   "execution_count": null,
   "id": "70e86171",
   "metadata": {},
   "outputs": [],
   "source": []
  }
 ],
 "metadata": {
  "kernelspec": {
   "display_name": "Python 3 (ipykernel)",
   "language": "python",
   "name": "python3"
  },
  "language_info": {
   "codemirror_mode": {
    "name": "ipython",
    "version": 3
   },
   "file_extension": ".py",
   "mimetype": "text/x-python",
   "name": "python",
   "nbconvert_exporter": "python",
   "pygments_lexer": "ipython3",
   "version": "3.9.7"
  }
 },
 "nbformat": 4,
 "nbformat_minor": 5
}
